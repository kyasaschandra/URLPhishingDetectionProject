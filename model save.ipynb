{
 "cells": [
  {
   "cell_type": "code",
   "execution_count": 26,
   "metadata": {},
   "outputs": [],
   "source": [
    "import pickle\n",
    "import pandas as pd"
   ]
  },
  {
   "cell_type": "code",
   "execution_count": 27,
   "metadata": {},
   "outputs": [],
   "source": [
    "data = pd.read_csv('processedData.csv')"
   ]
  },
  {
   "cell_type": "code",
   "execution_count": 28,
   "metadata": {},
   "outputs": [
    {
     "name": "stdout",
     "output_type": "stream",
     "text": [
      "<class 'pandas.core.frame.DataFrame'>\n",
      "RangeIndex: 426078 entries, 0 to 426077\n",
      "Data columns (total 29 columns):\n",
      " #   Column           Non-Null Count   Dtype  \n",
      "---  ------           --------------   -----  \n",
      " 0   url              426078 non-null  object \n",
      " 1   type             426078 non-null  int64  \n",
      " 2   length_of_url    426078 non-null  float64\n",
      " 3   @                426078 non-null  int64  \n",
      " 4   ?                426078 non-null  int64  \n",
      " 5   -                426078 non-null  int64  \n",
      " 6   =                426078 non-null  int64  \n",
      " 7   .                426078 non-null  int64  \n",
      " 8   #                426078 non-null  int64  \n",
      " 9   %                426078 non-null  int64  \n",
      " 10  +                426078 non-null  int64  \n",
      " 11  $                426078 non-null  int64  \n",
      " 12  !                426078 non-null  int64  \n",
      " 13  *                426078 non-null  int64  \n",
      " 14  ,                426078 non-null  int64  \n",
      " 15  //               426078 non-null  int64  \n",
      " 16  abnormal_url     426078 non-null  int64  \n",
      " 17  https_scheme     426078 non-null  int64  \n",
      " 18  count_numbers    426078 non-null  int64  \n",
      " 19  count_alphabets  426078 non-null  int64  \n",
      " 20  is_ip            426078 non-null  int64  \n",
      " 21  subdomain        426078 non-null  int64  \n",
      " 22  domain           426078 non-null  int64  \n",
      " 23  tld              426078 non-null  int64  \n",
      " 24  fld              426078 non-null  int64  \n",
      " 25  short_url        426078 non-null  int64  \n",
      " 26  url_path_length  426078 non-null  float64\n",
      " 27  numeric_ratio    426078 non-null  float64\n",
      " 28  character_ratio  426078 non-null  float64\n",
      "dtypes: float64(4), int64(24), object(1)\n",
      "memory usage: 94.3+ MB\n"
     ]
    }
   ],
   "source": [
    "data.info()"
   ]
  },
  {
   "cell_type": "code",
   "execution_count": 29,
   "metadata": {},
   "outputs": [
    {
     "name": "stdout",
     "output_type": "stream",
     "text": [
      "<class 'pandas.core.frame.DataFrame'>\n",
      "RangeIndex: 426078 entries, 0 to 426077\n",
      "Data columns (total 21 columns):\n",
      " #   Column           Non-Null Count   Dtype  \n",
      "---  ------           --------------   -----  \n",
      " 0   length_of_url    426078 non-null  float64\n",
      " 1   ?                426078 non-null  int64  \n",
      " 2   -                426078 non-null  int64  \n",
      " 3   =                426078 non-null  int64  \n",
      " 4   .                426078 non-null  int64  \n",
      " 5   #                426078 non-null  int64  \n",
      " 6   %                426078 non-null  int64  \n",
      " 7   +                426078 non-null  int64  \n",
      " 8   ,                426078 non-null  int64  \n",
      " 9   //               426078 non-null  int64  \n",
      " 10  abnormal_url     426078 non-null  int64  \n",
      " 11  count_numbers    426078 non-null  int64  \n",
      " 12  count_alphabets  426078 non-null  int64  \n",
      " 13  subdomain        426078 non-null  int64  \n",
      " 14  domain           426078 non-null  int64  \n",
      " 15  tld              426078 non-null  int64  \n",
      " 16  fld              426078 non-null  int64  \n",
      " 17  short_url        426078 non-null  int64  \n",
      " 18  url_path_length  426078 non-null  float64\n",
      " 19  numeric_ratio    426078 non-null  float64\n",
      " 20  character_ratio  426078 non-null  float64\n",
      "dtypes: float64(4), int64(17)\n",
      "memory usage: 68.3 MB\n"
     ]
    }
   ],
   "source": [
    "X = data[['length_of_url', '?', '-', '=', '.', '#', '%', '+', ',', '//','abnormal_url', 'count_numbers', 'count_alphabets', 'subdomain','domain', 'tld', 'fld', 'short_url', 'url_path_length', 'numeric_ratio', 'character_ratio']]\n",
    "Y = data[['type']]\n",
    "X.info()"
   ]
  },
  {
   "cell_type": "code",
   "execution_count": 30,
   "metadata": {},
   "outputs": [
    {
     "name": "stdout",
     "output_type": "stream",
     "text": [
      "<class 'pandas.core.frame.DataFrame'>\n",
      "RangeIndex: 426078 entries, 0 to 426077\n",
      "Data columns (total 1 columns):\n",
      " #   Column  Non-Null Count   Dtype\n",
      "---  ------  --------------   -----\n",
      " 0   type    426078 non-null  int64\n",
      "dtypes: int64(1)\n",
      "memory usage: 3.3 MB\n"
     ]
    }
   ],
   "source": [
    "Y.info()"
   ]
  },
  {
   "cell_type": "code",
   "execution_count": 31,
   "metadata": {},
   "outputs": [],
   "source": [
    "\n",
    "from sklearn.model_selection import train_test_split\n",
    "X_train, X_test, y_train, y_test = train_test_split(X, Y, test_size=0.33, random_state=1)"
   ]
  },
  {
   "cell_type": "code",
   "execution_count": 32,
   "metadata": {},
   "outputs": [
    {
     "name": "stdout",
     "output_type": "stream",
     "text": [
      "Accuracy: 0.9708760650327867\n"
     ]
    }
   ],
   "source": [
    "from sklearn.ensemble import RandomForestClassifier\n",
    "from sklearn.metrics import accuracy_score\n",
    "rf = RandomForestClassifier(n_estimators=800,min_samples_leaf=2,min_samples_split=2,max_depth=50,bootstrap=False)\n",
    "rf.fit(X_train, y_train.values.ravel())\n",
    "y_pred = rf.predict(X_test)\n",
    "accuracy = accuracy_score(y_test, y_pred)\n",
    "print(\"Accuracy:\", accuracy)"
   ]
  },
  {
   "cell_type": "code",
   "execution_count": 33,
   "metadata": {},
   "outputs": [],
   "source": [
    "pickle.dump(rf,open('rfmodel.pkl','wb'))"
   ]
  },
  {
   "cell_type": "code",
   "execution_count": 34,
   "metadata": {},
   "outputs": [],
   "source": [
    "model = pickle.load(open('rfmodel.pkl','rb'))"
   ]
  },
  {
   "cell_type": "code",
   "execution_count": 35,
   "metadata": {},
   "outputs": [
    {
     "name": "stdout",
     "output_type": "stream",
     "text": [
      "Accuracy: 0.9708760650327867\n"
     ]
    }
   ],
   "source": [
    "y_predl = model.predict(X_test)\n",
    "accuracyl = accuracy_score(y_test, y_predl)\n",
    "print(\"Accuracy:\", accuracyl)"
   ]
  },
  {
   "cell_type": "code",
   "execution_count": null,
   "metadata": {},
   "outputs": [],
   "source": []
  }
 ],
 "metadata": {
  "kernelspec": {
   "display_name": "Python 3",
   "language": "python",
   "name": "python3"
  },
  "language_info": {
   "codemirror_mode": {
    "name": "ipython",
    "version": 3
   },
   "file_extension": ".py",
   "mimetype": "text/x-python",
   "name": "python",
   "nbconvert_exporter": "python",
   "pygments_lexer": "ipython3",
   "version": "3.11.3"
  },
  "orig_nbformat": 4
 },
 "nbformat": 4,
 "nbformat_minor": 2
}
